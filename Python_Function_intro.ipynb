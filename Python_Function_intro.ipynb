{
 "cells": [
  {
   "cell_type": "code",
   "execution_count": 1,
   "id": "874ff399-f2c5-4c96-b681-553cdc5125e5",
   "metadata": {},
   "outputs": [
    {
     "data": {
      "text/plain": [
       "<function __main__.fun()>"
      ]
     },
     "execution_count": 1,
     "metadata": {},
     "output_type": "execute_result"
    }
   ],
   "source": [
    "#Python Function"
   ]
  },
  {
   "cell_type": "code",
   "execution_count": 3,
   "id": "b3907aa5-ceb2-437c-86f2-ea55b905e91c",
   "metadata": {},
   "outputs": [
    {
     "data": {
      "text/plain": [
       "<function __main__.fun()>"
      ]
     },
     "execution_count": 3,
     "metadata": {},
     "output_type": "execute_result"
    }
   ],
   "source": [
    "def fun():\n",
    "    print(\"Hello\")\n",
    "fun()"
   ]
  },
  {
   "cell_type": "code",
   "execution_count": 5,
   "id": "1764db23-8cea-460c-be75-e7feb0e08deb",
   "metadata": {},
   "outputs": [
    {
     "name": "stdout",
     "output_type": "stream",
     "text": [
      "Hello\n"
     ]
    }
   ],
   "source": [
    "fun()"
   ]
  },
  {
   "cell_type": "code",
   "execution_count": 7,
   "id": "6bdc4fd2-e1e0-4303-999e-761dde403f2a",
   "metadata": {},
   "outputs": [
    {
     "name": "stdout",
     "output_type": "stream",
     "text": [
      "Hello\n",
      "Hello\n"
     ]
    }
   ],
   "source": [
    "def fun():\n",
    "    print(\"Hello\")\n",
    "fun()\n",
    "\n",
    "\n",
    "def fun():\n",
    "    print(\"Hello\")\n",
    "fun()"
   ]
  },
  {
   "cell_type": "code",
   "execution_count": 11,
   "id": "35a1015d-424a-41ab-8c8e-6e344048a233",
   "metadata": {},
   "outputs": [
    {
     "name": "stdout",
     "output_type": "stream",
     "text": [
      "Hello\n",
      "Hello\n"
     ]
    }
   ],
   "source": [
    "def fun():      #define a function once and call it multiple timres.\n",
    "    print(\"Hello\")\n",
    "fun()\n",
    "fun()"
   ]
  },
  {
   "cell_type": "code",
   "execution_count": 13,
   "id": "9bffc41e-964a-45aa-befe-c66feb076f03",
   "metadata": {},
   "outputs": [
    {
     "name": "stdout",
     "output_type": "stream",
     "text": [
      "Hello\n",
      "\n",
      "Hello\n"
     ]
    }
   ],
   "source": [
    "def fun():      #define a function once and call it multiple timres.\n",
    "    print(\"Hello\")\n",
    "fun()\n",
    "print()     #create space \n",
    "fun()"
   ]
  },
  {
   "cell_type": "code",
   "execution_count": 17,
   "id": "01670f73-4c8d-4c70-b885-7270e475abb2",
   "metadata": {},
   "outputs": [
    {
     "name": "stdout",
     "output_type": "stream",
     "text": [
      "Hello\n",
      "********\n",
      "Hello\n"
     ]
    }
   ],
   "source": [
    "def fun():      #define a function once and call it multiple timres.\n",
    "    print(\"Hello\")\n",
    "fun()\n",
    "print(\"********\")     #Print *\n",
    "fun()"
   ]
  },
  {
   "cell_type": "code",
   "execution_count": 25,
   "id": "3e8be97c-8bab-4c55-a331-c654972bd645",
   "metadata": {},
   "outputs": [],
   "source": [
    "#now define function with argument\n",
    "\n",
    "def add(a,b):    # a & b is called formal argument\n",
    "    c=a+b\n",
    "    print(c)\n",
    "\n",
    "add(5,2)   #call func with argument  #this is called actual argument\n",
    "\n",
    "\n",
    "\n",
    "\n"
   ]
  },
  {
   "cell_type": "code",
   "execution_count": 29,
   "id": "1a2aa46a-7331-4a8d-a138-291455b6005c",
   "metadata": {},
   "outputs": [
    {
     "name": "stdout",
     "output_type": "stream",
     "text": [
      "7\n",
      "Hello\n"
     ]
    }
   ],
   "source": [
    "def add(a,b):   #declare fun\n",
    "    c=a+b\n",
    "    print(c)\n",
    "def fun():   #declare fun\n",
    "    print(\"Hello\")\n",
    "\n",
    "add(5,2) #call Last\n",
    "fun()  #call last"
   ]
  },
  {
   "cell_type": "code",
   "execution_count": 42,
   "id": "9212c28e-f5b5-4131-bfe3-f758195820f3",
   "metadata": {},
   "outputs": [
    {
     "name": "stdout",
     "output_type": "stream",
     "text": [
      "Result of add: None\n",
      "Hello\n"
     ]
    }
   ],
   "source": [
    "def add(a, b):  # Define function 'add' that takes two parameters\n",
    "    c = a + b   # Add the two numbers\n",
    "    return c    # Return the result\n",
    "\n",
    "def fun():  # Define function 'fun' with no parameters\n",
    "    print(\"Hello\")  # Print \"Hello\" to the console\n",
    "\n",
    "# Call the functions\n",
    "result = add(5, 2)  # Calls add with 5 and 2, result will be 7\n",
    "print(\"Result of add:\", result)\n",
    "\n",
    "fun()  # Calls fun, prints \"Hello\"\n"
   ]
  },
  {
   "cell_type": "code",
   "execution_count": 50,
   "id": "523cf48e-d3e2-45dc-90f3-875e6fe6faaa",
   "metadata": {},
   "outputs": [
    {
     "data": {
      "text/plain": [
       "(15, 5)"
      ]
     },
     "execution_count": 50,
     "metadata": {},
     "output_type": "execute_result"
    }
   ],
   "source": [
    "def add_sub(a,b):\n",
    "    x=a+b\n",
    "    y=a-b\n",
    "    return x,y\n",
    "\n",
    "add_sub(10,5)\n",
    "\n",
    "    "
   ]
  },
  {
   "cell_type": "code",
   "execution_count": 58,
   "id": "fcdf7020-bcb7-4364-9312-2efd124b1811",
   "metadata": {},
   "outputs": [
    {
     "name": "stdout",
     "output_type": "stream",
     "text": [
      "(15, 5)\n",
      "<class 'tuple'>\n"
     ]
    }
   ],
   "source": [
    "def add_sub(a, b):\n",
    "    x = a + b\n",
    "    y = a - b\n",
    "    return x, y  # Returns a tuple with two values\n",
    "\n",
    "res = add_sub(10, 5)\n",
    "\n",
    "print(res)          # Prints the tuple (15, 5)\n",
    "print(type(res))    # Prints the type of res, which is <class 'tuple'>\n"
   ]
  },
  {
   "cell_type": "code",
   "execution_count": 60,
   "id": "f49b5b84-6d9d-44a6-bd6b-15375c4d123d",
   "metadata": {},
   "outputs": [
    {
     "name": "stdout",
     "output_type": "stream",
     "text": [
      "15\n",
      "5\n",
      "<class 'int'>\n",
      "<class 'int'>\n"
     ]
    }
   ],
   "source": [
    "def add_sub(a, b):\n",
    "    x = a + b\n",
    "    y = a - b\n",
    "    return x, y  # Returns a tuple with two values\n",
    "\n",
    "res1,res2 = add_sub(10, 5)\n",
    "\n",
    "print(res1)\n",
    "print(res2)\n",
    "print(type(res1))    \n",
    "print(type(res2))    "
   ]
  },
  {
   "cell_type": "code",
   "execution_count": null,
   "id": "f35e71e9-bae1-431e-91ab-882d39d15409",
   "metadata": {},
   "outputs": [],
   "source": []
  }
 ],
 "metadata": {
  "kernelspec": {
   "display_name": "Python [conda env:base] *",
   "language": "python",
   "name": "conda-base-py"
  },
  "language_info": {
   "codemirror_mode": {
    "name": "ipython",
    "version": 3
   },
   "file_extension": ".py",
   "mimetype": "text/x-python",
   "name": "python",
   "nbconvert_exporter": "python",
   "pygments_lexer": "ipython3",
   "version": "3.12.7"
  }
 },
 "nbformat": 4,
 "nbformat_minor": 5
}
